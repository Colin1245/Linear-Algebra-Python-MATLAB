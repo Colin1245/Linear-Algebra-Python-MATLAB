{
 "cells": [
  {
   "cell_type": "code",
   "execution_count": 2,
   "metadata": {},
   "outputs": [
    {
     "data": {
      "text/plain": [
       "array([[ 0.00000000e+00,  0.00000000e+00,  0.00000000e+00,\n",
       "         0.00000000e+00],\n",
       "       [ 5.55111512e-17,  0.00000000e+00, -2.22044605e-16,\n",
       "         1.11022302e-16],\n",
       "       [-1.11022302e-16,  0.00000000e+00,  2.22044605e-16,\n",
       "        -3.33066907e-16],\n",
       "       [ 5.55111512e-17,  0.00000000e+00, -4.44089210e-16,\n",
       "        -4.44089210e-16]])"
      ]
     },
     "execution_count": 2,
     "metadata": {},
     "output_type": "execute_result"
    }
   ],
   "source": [
    "import numpy as np\n",
    "m = 4\n",
    "n = 6\n",
    "\n",
    "A = np.random.randn(m,n)\n",
    "B = np.random.randn(n,m)\n",
    "\n",
    "C1 = np.zeros((m,m))\n",
    "for i in range(n):\n",
    "    C1 = C1 + np.outer(A[:,i],B[i,:])\n",
    "    \n",
    "C2 = A@B\n",
    "\n",
    "C1 - C2"
   ]
  },
  {
   "cell_type": "code",
   "execution_count": 3,
   "metadata": {},
   "outputs": [
    {
     "data": {
      "text/plain": [
       "<Figure size 640x480 with 1 Axes>"
      ]
     },
     "metadata": {},
     "output_type": "display_data"
    }
   ],
   "source": [
    "import numpy as np\n",
    "import matplotlib.pyplot as plt\n",
    "import math\n",
    "v = np.array([ 3, -2 ])\n",
    "thetas = np.linspace(0,2*np.pi,100)\n",
    "vecmags = np.zeros((len(thetas),2))\n",
    "\n",
    "for i in range(len(thetas)):\n",
    "    th = thetas[i]\n",
    "    A1 = np.array([[2*math.cos(th), -math.sin(th)], [math.sin(th), math.cos(th)]])\n",
    "    A2 = np.array([[math.cos(th), -math.sin(th)], [math.sin(th), math.cos(th)]])\n",
    "    \n",
    "    vecmags[i,0] = np.linalg.norm(A1@v.T)\n",
    "    vecmags[i,1] = np.linalg.norm(A2@v.T)\n",
    "                   \n",
    "plt.plot(thetas,vecmags,'o-')\n",
    "plt.xlabel('Roatation angle (rad.)')\n",
    "plt.ylabel('Av magnitude')\n",
    "plt.legend(['inmpure rotation','pure rotation'])\n",
    "plt.show()"
   ]
  },
  {
   "cell_type": "code",
   "execution_count": 4,
   "metadata": {},
   "outputs": [
    {
     "name": "stdout",
     "output_type": "stream",
     "text": [
      "(100, 2)\n"
     ]
    },
    {
     "data": {
      "image/png": "[encoded data removed]",
      "text/plain": [
       "<Figure size 432x288 with 1 Axes>"
      ]
     },
     "metadata": {
      "needs_background": "light"
     },
     "output_type": "display_data"
    }
   ],
   "source": [
    "x = np.linspace(-np.pi,np.pi,100)\n",
    "xy = np.vstack((np.cos(x),np.sin(x))).T\n",
    "print(np.shape(xy))\n",
    "\n",
    "plt.plot(xy[:,0],xy[:,1],'o')\n",
    "\n",
    "T = np.array([[1,2],[2,1]])\n",
    "newxy = xy@T\n",
    "\n",
    "plt.plot(newxy[:,0],newxy[:,1],'o')\n",
    "\n",
    "plt.axis('square')\n",
    "plt.show()"
   ]
  },
  {
   "cell_type": "code",
   "execution_count": 5,
   "metadata": {},
   "outputs": [
    {
     "name": "stdout",
     "output_type": "stream",
     "text": [
      "[[0. 0. 0.]\n",
      " [0. 0. 0.]\n",
      " [0. 0. 0.]]\n",
      " \n",
      "[[ 0.          6.1334195  -7.35234124]\n",
      " [-6.1334195   0.          7.49114055]\n",
      " [ 7.35234124 -7.49114055  0.        ]]\n",
      " \n",
      "[[0. 0. 0.]\n",
      " [0. 0. 0.]\n",
      " [0. 0. 0.]]\n"
     ]
    }
   ],
   "source": [
    "m = 3\n",
    "A = np.random.randn(m,m)\n",
    "AtA = A.T@A\n",
    "\n",
    "B = np.random.randn(m,m)\n",
    "BtB = B.T@B\n",
    "\n",
    "#compute sum, multiplication and Hadamard multiplication\n",
    "Cs = AtA + BtB\n",
    "Cm = AtA @ BtB\n",
    "Ch = AtA * BtB# Hadamard\n",
    "\n",
    "print(Cs-Cs.T),print(' ')\n",
    "print(Cm-Cm.T),print(' ')\n",
    "print(Ch-Ch.T)"
   ]
  },
  {
   "cell_type": "code",
   "execution_count": 7,
   "metadata": {},
   "outputs": [
    {
     "name": "stdout",
     "output_type": "stream",
     "text": [
      "[[ 1.88758679 -1.17201309  2.18084704 -0.39685049]\n",
      " [ 5.90978536 -2.98592504 -1.98618409 -0.1326206 ]\n",
      " [ 0.79554417  2.09856189  0.74952748  0.60976466]\n",
      " [ 0.49173663 -4.25704417  2.5623038   2.6739719 ]]\n",
      " \n",
      "[[9.96783984e-02 1.17015786e+00 5.65215224e-01 2.59938687e-01]\n",
      " [4.55143123e-01 3.35029023e-02 4.54938051e+00 2.83443574e-01]\n",
      " [6.25212819e+00 4.61756908e-01 2.76461118e-01 4.75150394e-01]\n",
      " [1.56521466e+00 2.49091904e+00 3.82083769e-03 2.83376676e+00]]\n",
      " \n",
      "[[0.26786069 0.         0.         0.        ]\n",
      " [0.         2.82431984 0.         0.        ]\n",
      " [0.         0.         0.20341255 0.        ]\n",
      " [0.         0.         0.         0.18329444]]\n",
      " \n",
      "[[0.26786069 0.         0.         0.        ]\n",
      " [0.         2.82431984 0.         0.        ]\n",
      " [0.         0.         0.20341255 0.        ]\n",
      " [0.         0.         0.         0.18329444]]\n"
     ]
    }
   ],
   "source": [
    "A = np.random.randn(4,4)\n",
    "D = np.diag(np.random.randn(4))\n",
    "\n",
    "print(A@A),print(' ')\n",
    "print(A*A),print(' ')\n",
    "\n",
    "print(D@D),print(' ')\n",
    "print(D*D)"
   ]
  },
  {
   "cell_type": "code",
   "execution_count": 18,
   "metadata": {},
   "outputs": [
    {
     "data": {
      "text/plain": [
       "0.0"
      ]
     },
     "execution_count": 18,
     "metadata": {},
     "output_type": "execute_result"
    }
   ],
   "source": [
    "m = 5\n",
    "A = np.random.randn(m,m)\n",
    "A = A@A.T\n",
    "\n",
    "v = np.random.randn(m)\n",
    "w = np.random.randn(m)\n",
    "\n",
    "np.dot(A@v,w) - np.dot(v,A@w)"
   ]
  },
  {
   "cell_type": "code",
   "execution_count": null,
   "metadata": {},
   "outputs": [],
   "source": []
  }
 ],
 "metadata": {
  "kernelspec": {
   "display_name": "Python 3",
   "language": "python",
   "name": "python3"
  },
  "language_info": {
   "codemirror_mode": {
    "name": "ipython",
    "version": 3
   },
   "file_extension": ".py",
   "mimetype": "text/x-python",
   "name": "python",
   "nbconvert_exporter": "python",
   "pygments_lexer": "ipython3",
   "version": "3.7.4"
  }
 },
 "nbformat": 4,
 "nbformat_minor": 2
}

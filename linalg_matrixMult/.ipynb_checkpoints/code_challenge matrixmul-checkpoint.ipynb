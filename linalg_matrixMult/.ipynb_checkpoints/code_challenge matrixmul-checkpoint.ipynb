{
 "cells": [
  {
   "cell_type": "code",
   "execution_count": 1,
   "metadata": {},
   "outputs": [
    {
     "data": {
      "text/plain": [
       "array([[ 4.44089210e-16,  1.11022302e-16,  0.00000000e+00,\n",
       "         8.88178420e-16],\n",
       "       [ 2.22044605e-16,  0.00000000e+00,  0.00000000e+00,\n",
       "         0.00000000e+00],\n",
       "       [-1.11022302e-16,  0.00000000e+00,  2.22044605e-16,\n",
       "         1.66533454e-16],\n",
       "       [-2.22044605e-16,  2.22044605e-16, -4.44089210e-16,\n",
       "        -2.22044605e-16]])"
      ]
     },
     "execution_count": 1,
     "metadata": {},
     "output_type": "execute_result"
    }
   ],
   "source": [
    "import numpy as np\n",
    "m = 4\n",
    "n = 6\n",
    "\n",
    "A = np.random.randn(m,n)\n",
    "B = np.random.randn(n,m)\n",
    "\n",
    "C1 = np.zeros((m,m))\n",
    "for i in range(n):\n",
    "    C1 = C1 + np.outer(A[:,i],B[i,:])\n",
    "    \n",
    "C2 = A@B\n",
    "\n",
    "C1 - C2"
   ]
  },
  {
   "cell_type": "code",
   "execution_count": 4,
   "metadata": {},
   "outputs": [
    {
     "ename": "SyntaxError",
     "evalue": "invalid syntax (<ipython-input-4-5aebea893387>, line 9)",
     "output_type": "error",
     "traceback": [
      "\u001b[0;36m  File \u001b[0;32m\"<ipython-input-4-5aebea893387>\"\u001b[0;36m, line \u001b[0;32m9\u001b[0m\n\u001b[0;31m    vecmags[i,0] = np.linalg.norm(A1@v.T)\u001b[0m\n\u001b[0m          ^\u001b[0m\n\u001b[0;31mSyntaxError\u001b[0m\u001b[0;31m:\u001b[0m invalid syntax\n"
     ]
    }
   ],
   "source": [
    "thetas = np.linspace(0,2*np.pi,100)\n",
    "vecmags = np.zeros((len(thetas),2))\n",
    "\n",
    "for i in range(len(thetas)):\n",
    "    th = thetas[i]\n",
    "    A1 = np.array([[2*math.cos(th), -math.sin(th)], [math.sin(th), math.cos(th)]])\n",
    "    A2 = np.array([[math.cos(th), -math.sin(th)], [math.sin(th), math.cos(th)]\n",
    "    \n",
    "vecmags[i,0] = np.linalg.norm(A1@v.T)\n",
    "vecmags[i,1] = np.linalg.norm(A2@v.T)\n",
    "                   \n",
    "plt.plot(thetas,vecmags,'o-')\n",
    "plt.xlabel('Roatation angle (rad.)')\n",
    "plt.ylabel('Av magnitude')\n",
    "plt.legend(['inmpure rotation'],'pure rotation'])\n",
    "plot.show()"
   ]
  }
 ],
 "metadata": {
  "kernelspec": {
   "display_name": "Python 3",
   "language": "python",
   "name": "python3"
  },
  "language_info": {
   "codemirror_mode": {
    "name": "ipython",
    "version": 3
   },
   "file_extension": ".py",
   "mimetype": "text/x-python",
   "name": "python",
   "nbconvert_exporter": "python",
   "pygments_lexer": "ipython3",
   "version": "3.7.4"
  }
 },
 "nbformat": 4,
 "nbformat_minor": 2
}

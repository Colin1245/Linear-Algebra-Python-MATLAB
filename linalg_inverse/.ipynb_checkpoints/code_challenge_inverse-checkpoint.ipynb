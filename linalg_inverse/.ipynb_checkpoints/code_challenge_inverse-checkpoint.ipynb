{
 "cells": [
  {
   "cell_type": "code",
   "execution_count": 1,
   "metadata": {},
   "outputs": [],
   "source": [
    "import numpy as np"
   ]
  },
  {
   "cell_type": "code",
   "execution_count": 8,
   "metadata": {},
   "outputs": [
    {
     "name": "stdout",
     "output_type": "stream",
     "text": [
      "[[ 1.00000000e+00 -1.90819582e-17 -5.55111512e-17  0.00000000e+00]\n",
      " [-4.44089210e-16  1.00000000e+00 -4.44089210e-16 -5.55111512e-17]\n",
      " [ 2.22044605e-16 -5.55111512e-17  1.00000000e+00 -1.21430643e-17]\n",
      " [ 0.00000000e+00 -5.55111512e-17 -2.22044605e-16  1.00000000e+00]]\n"
     ]
    }
   ],
   "source": [
    "m = 4\n",
    "A = np.random.randn(m,m)\n",
    "\n",
    "minors = np.zeros((m,m))\n",
    "H = np.zeros((m,m))\n",
    "for i in range(m):\n",
    "    for j in range(m):\n",
    "        \n",
    "        rows = [True]*m\n",
    "        rows[i] = False\n",
    "        \n",
    "        cols = [True]*m\n",
    "        cols[j] = False\n",
    "        \n",
    "        minors[i,j] = np.linalg.det(A[rows,:][:,cols])\n",
    "        \n",
    "        H[i,j] = (-1)**(i+j)\n",
    "        \n",
    "C = H*minors\n",
    "Ainv = C.T/np.linalg.det(A)\n",
    "\n",
    "print(A@Ainv)"
   ]
  },
  {
   "cell_type": "code",
   "execution_count": 9,
   "metadata": {},
   "outputs": [
    {
     "name": "stdout",
     "output_type": "stream",
     "text": [
      "[[ 0.00000000e+00 -1.11022302e-16  2.22044605e-16  2.22044605e-16]\n",
      " [ 5.55111512e-17  1.66533454e-16 -1.66533454e-16  0.00000000e+00]\n",
      " [ 1.11022302e-16  1.11022302e-16  2.22044605e-16  2.77555756e-17]\n",
      " [ 1.11022302e-16 -1.11022302e-16  0.00000000e+00 -5.55111512e-17]]\n"
     ]
    }
   ],
   "source": [
    "Ainv2 = np.linalg.inv(A)\n",
    "print(Ainv-Ainv2)"
   ]
  },
  {
   "cell_type": "code",
   "execution_count": 12,
   "metadata": {},
   "outputs": [
    {
     "name": "stdout",
     "output_type": "stream",
     "text": [
      "[[ 0.98318402 -0.77496584 -1.90605234]\n",
      " [-0.37149724  1.1935618   0.46146282]\n",
      " [-1.33355695 -1.5821053  -1.00622191]]\n"
     ]
    }
   ],
   "source": [
    "rows = [True]*m\n",
    "rows[0] = False\n",
    "\n",
    "cols = [True]*m\n",
    "cols[0] = False\n",
    "\n",
    "print(A[rows,:][:,cols])"
   ]
  },
  {
   "cell_type": "code",
   "execution_count": 17,
   "metadata": {},
   "outputs": [
    {
     "name": "stdout",
     "output_type": "stream",
     "text": [
      "[[1 0 0 0 0]\n",
      " [0 2 0 0 0]\n",
      " [0 0 3 0 0]\n",
      " [0 0 0 4 0]\n",
      " [0 0 0 0 5]]\n",
      " \n",
      "[[ 1.          0.          0.          0.          0.        ]\n",
      " [ 0.          0.5         0.          0.          0.        ]\n",
      " [ 0.          0.          0.33333333  0.          0.        ]\n",
      " [-0.         -0.         -0.          0.25       -0.        ]\n",
      " [ 0.          0.          0.          0.          0.2       ]]\n"
     ]
    }
   ],
   "source": [
    "A = np.array([[2,0],[0,3]])\n",
    "A = np.diag(np.arange(1,6))\n",
    "\n",
    "print(A), print(' ')\n",
    "print(np.linalg.inv(A))"
   ]
  },
  {
   "cell_type": "code",
   "execution_count": 19,
   "metadata": {},
   "outputs": [
    {
     "name": "stdout",
     "output_type": "stream",
     "text": [
      "[[ 0.268  0.118 -0.022  1.738  1.239]\n",
      " [ 0.025  0.517 -0.118  0.24   0.251]\n",
      " [ 0.182  0.342  0.025  0.932  0.332]\n",
      " [ 0.735  0.199  0.041  0.937  1.199]\n",
      " [-0.89   0.358  0.348 -1.449 -1.716]]\n",
      " \n",
      "[[ 0.268  0.118 -0.022  1.738  1.239]\n",
      " [ 0.025  0.517 -0.118  0.24   0.251]\n",
      " [ 0.182  0.342  0.025  0.932  0.332]\n",
      " [ 0.735  0.199  0.041  0.937  1.199]\n",
      " [-0.89   0.358  0.348 -1.449 -1.716]]\n",
      " \n",
      "[[ 0. -0.  0.  0.  0.]\n",
      " [-0. -0.  0. -0. -0.]\n",
      " [-0. -0.  0. -0. -0.]\n",
      " [-0. -0.  0. -0. -0.]\n",
      " [-0.  0. -0. -0. -0.]]\n"
     ]
    }
   ],
   "source": [
    "m = 5\n",
    "A = np.random.randn(m,m)\n",
    "\n",
    "AinvF = np.linalg.inv(A)\n",
    "AinvP = np.linalg.pinv(A)\n",
    "\n",
    "print(np.round(AinvF,3)),print(' ')\n",
    "print(np.round(AinvP,3)),print(' ')\n",
    "\n",
    "print(np.round(AinvP-AinvF, 5))"
   ]
  },
  {
   "cell_type": "code",
   "execution_count": null,
   "metadata": {},
   "outputs": [],
   "source": []
  }
 ],
 "metadata": {
  "kernelspec": {
   "display_name": "Python 3",
   "language": "python",
   "name": "python3"
  },
  "language_info": {
   "codemirror_mode": {
    "name": "ipython",
    "version": 3
   },
   "file_extension": ".py",
   "mimetype": "text/x-python",
   "name": "python",
   "nbconvert_exporter": "python",
   "pygments_lexer": "ipython3",
   "version": "3.7.4"
  }
 },
 "nbformat": 4,
 "nbformat_minor": 2
}

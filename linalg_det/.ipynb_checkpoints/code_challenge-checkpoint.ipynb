{
 "cells": [
  {
   "cell_type": "code",
   "execution_count": 13,
   "metadata": {},
   "outputs": [],
   "source": [
    "import numpy as np\n",
    "import matplotlib.pyplot as plt"
   ]
  },
  {
   "cell_type": "code",
   "execution_count": 14,
   "metadata": {},
   "outputs": [
    {
     "name": "stdout",
     "output_type": "stream",
     "text": [
      "[[1 3]\n",
      " [1 3]]\n",
      "0.0\n",
      "0.0\n"
     ]
    }
   ],
   "source": [
    "A = np.array([[1,3] , [1,3]])\n",
    "print(A)\n",
    "print(np.linalg.det(A))\n",
    "m = 8\n",
    "\n",
    "A = np.random.randn(m,m)\n",
    "A[:,0] = A[:,1]\n",
    "print(np.linalg.det(A))"
   ]
  },
  {
   "cell_type": "code",
   "execution_count": 15,
   "metadata": {},
   "outputs": [
    {
     "name": "stdout",
     "output_type": "stream",
     "text": [
      "Before row swap: 1.4634746515942545\n",
      "After 1row swap: -1.4634746515942545\n",
      "Ager 2row swap: 1.4634746515942545\n"
     ]
    }
   ],
   "source": [
    "A = np.random.randn(6,6)\n",
    "print('Before row swap: ' + str(np.linalg.det(A)))\n",
    "\n",
    "As = A[[1,0,2,3,4,5],:]\n",
    "print('After 1row swap: ' + str(np.linalg.det(As)))\n",
    "\n",
    "Ass = A[[1,0,2,4,3,5],:]\n",
    "print('Ager 2row swap: ' + str(np.linalg.det(Ass)))"
   ]
  },
  {
   "cell_type": "code",
   "execution_count": 16,
   "metadata": {},
   "outputs": [
    {
     "data": {
      "image/png": "[encoded data removed]",
      "text/plain": [
       "<Figure size 432x288 with 1 Axes>"
      ]
     },
     "metadata": {
      "needs_background": "light"
     },
     "output_type": "display_data"
    }
   ],
   "source": [
    "lambdas = np.linspace(0,.1,30)\n",
    "\n",
    "tmp = np.zeros(1000)\n",
    "dets = np.zeros(len(lambdas))\n",
    "\n",
    "for deti in range(len(lambdas)):\n",
    "    for i in range(1000):\n",
    "        \n",
    "        M = np.random.randn(20,20)\n",
    "        M[:,0] = M[:,1]\n",
    "        \n",
    "        tmp[i] = abs( np.linalg.det( M + lambdas[deti]*np.eye(20)))\n",
    "        \n",
    "dets[deti] = np.mean(tmp)\n",
    "    \n",
    "plt.plot(lambdas,dets,'s-')\n",
    "plt.xlabel('Fraction of identity for shifting')\n",
    "plt.ylabel('determinant')\n",
    "plt.show()"
   ]
  },
  {
   "cell_type": "code",
   "execution_count": 19,
   "metadata": {},
   "outputs": [
    {
     "name": "stdout",
     "output_type": "stream",
     "text": [
      "2.312522625177134 0.9693162976970786 2.2415658693774287 2.2415658693774283\n"
     ]
    }
   ],
   "source": [
    "A = np.random.randn(3,3)\n",
    "B = np.random.randn(3,3)\n",
    "AB = A@B\n",
    "print(np.linalg.det(A),np.linalg.det(B),np.linalg.det(A)*np.linalg.det(B),np.linalg.det(AB))"
   ]
  },
  {
   "cell_type": "code",
   "execution_count": 23,
   "metadata": {},
   "outputs": [
    {
     "data": {
      "image/png": "[encoded data removed]",
      "text/plain": [
       "<Figure size 432x288 with 1 Axes>"
      ]
     },
     "metadata": {
      "needs_background": "light"
     },
     "output_type": "display_data"
    }
   ],
   "source": [
    "dets = np.zeros((40,2))\n",
    "\n",
    "for k in range(40):\n",
    "    A = np.random.randn(k,k)\n",
    "    B = np.random.randn(k,k)\n",
    "    AB = A@B\n",
    "    \n",
    "    dets[k,0] = np.linalg.det(A)*np.linalg.det(B)\n",
    "    dets[k,1] = np.linalg.det(AB)\n",
    "\n",
    "plt.plot(dets[:,0]-dets[:,1],'s-')\n",
    "plt.ylim([-1,1])\n",
    "plt.show()"
   ]
  },
  {
   "cell_type": "code",
   "execution_count": null,
   "metadata": {},
   "outputs": [],
   "source": []
  }
 ],
 "metadata": {
  "kernelspec": {
   "display_name": "Python 3",
   "language": "python",
   "name": "python3"
  },
  "language_info": {
   "codemirror_mode": {
    "name": "ipython",
    "version": 3
   },
   "file_extension": ".py",
   "mimetype": "text/x-python",
   "name": "python",
   "nbconvert_exporter": "python",
   "pygments_lexer": "ipython3",
   "version": "3.7.3"
  }
 },
 "nbformat": 4,
 "nbformat_minor": 2
}

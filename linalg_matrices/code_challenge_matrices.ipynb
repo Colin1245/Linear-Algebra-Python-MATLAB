{
 "cells": [
  {
   "cell_type": "markdown",
   "metadata": {},
   "source": [
    "# 36.matrix-scalar multiplication"
   ]
  },
  {
   "cell_type": "code",
   "execution_count": 3,
   "metadata": {},
   "outputs": [],
   "source": [
    "import numpy as np"
   ]
  },
  {
   "cell_type": "code",
   "execution_count": 4,
   "metadata": {},
   "outputs": [
    {
     "name": "stdout",
     "output_type": "stream",
     "text": [
      "[[-3.97923004  1.89435654 -2.16529274 -0.83360422 -4.57324449]\n",
      " [-3.32759087 -1.76064087  0.58189863 -1.52600506  2.83439193]\n",
      " [-6.54401193  0.06060891 -1.34665448 -1.26776807  0.17790783]\n",
      " [ 0.68979992 -2.37622444  0.33520576 -0.67815426  2.24220554]\n",
      " [ 3.26459795 -5.9357526   1.74821905 -4.46111975  6.69192817]\n",
      " [-4.16000843  2.29029048 -2.06338822  1.78265527  0.85186317]\n",
      " [-4.77424689  1.12457563  6.19848375  0.17372514  4.09098925]]\n",
      " \n",
      "[[-3.97923004  1.89435654 -2.16529274 -0.83360422 -4.57324449]\n",
      " [-3.32759087 -1.76064087  0.58189863 -1.52600506  2.83439193]\n",
      " [-6.54401193  0.06060891 -1.34665448 -1.26776807  0.17790783]\n",
      " [ 0.68979992 -2.37622444  0.33520576 -0.67815426  2.24220554]\n",
      " [ 3.26459795 -5.9357526   1.74821905 -4.46111975  6.69192817]\n",
      " [-4.16000843  2.29029048 -2.06338822  1.78265527  0.85186317]\n",
      " [-4.77424689  1.12457563  6.19848375  0.17372514  4.09098925]]\n",
      " \n",
      "[[-4.44089210e-16  0.00000000e+00  0.00000000e+00  1.11022302e-16\n",
      "   8.88178420e-16]\n",
      " [ 8.88178420e-16 -2.22044605e-16  0.00000000e+00  0.00000000e+00\n",
      "  -4.44089210e-16]\n",
      " [-8.88178420e-16 -4.16333634e-17 -2.22044605e-16  0.00000000e+00\n",
      "   0.00000000e+00]\n",
      " [ 1.11022302e-16  0.00000000e+00  0.00000000e+00 -1.11022302e-16\n",
      "   0.00000000e+00]\n",
      " [-4.44089210e-16  0.00000000e+00  0.00000000e+00  0.00000000e+00\n",
      "   1.77635684e-15]\n",
      " [ 8.88178420e-16  0.00000000e+00  0.00000000e+00  0.00000000e+00\n",
      "   1.11022302e-16]\n",
      " [-8.88178420e-16  0.00000000e+00  0.00000000e+00  1.38777878e-16\n",
      "   0.00000000e+00]]\n"
     ]
    }
   ],
   "source": [
    "m = 7\n",
    "n = 5\n",
    "\n",
    "A = np.random.randn(m,n)\n",
    "B = np.random.randn(m,n)\n",
    "\n",
    "s = np.random.randn()\n",
    "\n",
    "resL = s * (A+B)\n",
    "resR = s*A + s*B\n",
    "\n",
    "print(resL), print(' ')\n",
    "print(resR), print(' ')\n",
    "\n",
    "print(resL - resR)"
   ]
  },
  {
   "cell_type": "markdown",
   "metadata": {},
   "source": [
    "# 40.linearity of trace"
   ]
  },
  {
   "cell_type": "code",
   "execution_count": 8,
   "metadata": {},
   "outputs": [
    {
     "name": "stdout",
     "output_type": "stream",
     "text": [
      "tr(A+B) = -2.7213741976762735\n",
      "tr(A)+tr(B) = -2.7213741976762735\n"
     ]
    }
   ],
   "source": [
    "m = n = 4\n",
    "\n",
    "A = np.random.randn(m,n)\n",
    "B = np.random.randn(m,n)\n",
    "\n",
    "l = np.random.rand()\n",
    "print('tr(A+B) = ' + str(np.trace(A+B)) )\n",
    "print('tr(A)+tr(B) = '+ str(np.trace(A) + np.trace(B)))"
   ]
  }
 ],
 "metadata": {
  "kernelspec": {
   "display_name": "Python 3",
   "language": "python",
   "name": "python3"
  },
  "language_info": {
   "codemirror_mode": {
    "name": "ipython",
    "version": 3
   },
   "file_extension": ".py",
   "mimetype": "text/x-python",
   "name": "python",
   "nbconvert_exporter": "python",
   "pygments_lexer": "ipython3",
   "version": "3.7.4"
  }
 },
 "nbformat": 4,
 "nbformat_minor": 2
}

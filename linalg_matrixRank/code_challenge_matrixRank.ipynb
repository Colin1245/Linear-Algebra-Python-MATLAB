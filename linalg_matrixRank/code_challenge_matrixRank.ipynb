{
 "cells": [
  {
   "cell_type": "code",
   "execution_count": 1,
   "metadata": {},
   "outputs": [],
   "source": [
    "import numpy as np\n",
    "import matplotlib.pyplot as plt\n",
    "import math"
   ]
  },
  {
   "cell_type": "code",
   "execution_count": 6,
   "metadata": {},
   "outputs": [
    {
     "name": "stdout",
     "output_type": "stream",
     "text": [
      "(10, 10)\n",
      "4\n",
      "[[ 0.45529847 -0.38649596 -1.61427315  1.58474719  0.09252944  2.76352066\n",
      "   0.10309894  0.79999183 -0.16024471 -0.40224894]\n",
      " [-1.3307815   0.87961668  2.96484786 -2.73589274 -0.02519485 -3.33409516\n",
      "  -1.3629283   0.50870389 -0.27282544  1.52929336]\n",
      " [-2.37893733  1.15172854  3.30996883 -2.30254893  2.1333361   1.90899927\n",
      "  -3.33104957  5.27155878  0.06105203  2.77918609]\n",
      " [ 2.07486862  0.31278607 -1.33856835  1.31871104 -1.92624067 -0.74256495\n",
      "  -0.16540653 -1.60101857 -0.82211439 -0.21970202]\n",
      " [ 4.8478315  -0.5981046  -4.43752881  4.89420273  0.40586547  4.43058741\n",
      "   2.51137312 -2.7269473   2.09124334 -2.97639197]\n",
      " [-0.62780856  0.92891128  2.53575446 -1.26284617  3.10825864  2.25042561\n",
      "  -1.56074176  3.22447014  1.93634199  1.2292858 ]\n",
      " [ 0.48502536 -0.48969134 -1.31937684  0.9735224  -0.52695852  0.33474567\n",
      "   0.90043183 -0.99868759 -0.17426467 -0.80717973]\n",
      " [-0.97116667 -0.47986393  0.21008844 -0.63335335  0.16613602 -1.03405457\n",
      "   0.90206305 -0.66851793  0.08694222 -0.42575101]\n",
      " [-2.35188635  0.57810397  3.3148368  -2.46327762  3.28763244  1.18671289\n",
      "  -1.32150499  3.4919317   1.6114205   1.4112358 ]\n",
      " [ 0.85316497 -0.23119938 -0.50301745  0.56003039  0.51749384  0.08269365\n",
      "   1.16515143 -1.28199139  1.02122602 -0.97089424]]\n"
     ]
    }
   ],
   "source": [
    "\n",
    "A = np.random.randn(10,4)\n",
    "B = np.random.randn(4,10)\n",
    "C = A@B\n",
    "print(np.shape(C))\n",
    "print(np.linalg.matrix_rank(C))\n",
    "print(C)\n",
    "m = 8\n",
    "n = 47\n",
    "r = 3\n",
    "\n",
    "A = np.random.randn(m,r) @ np.random.randn(r,n)\n",
    "# print(A)"
   ]
  },
  {
   "cell_type": "code",
   "execution_count": 11,
   "metadata": {},
   "outputs": [
    {
     "name": "stdout",
     "output_type": "stream",
     "text": [
      "[[4 0]\n",
      " [3 4]\n",
      " [6 0]\n",
      " [2 1]]\n",
      "[[4 0 1]\n",
      " [3 4 2]\n",
      " [6 0 3]\n",
      " [2 1 4]]\n",
      " \n",
      "3\n",
      "2\n"
     ]
    }
   ],
   "source": [
    "v = np.array([[1,2,3,4]]).T\n",
    "\n",
    "S = np.vstack(([4,3,6,2],[0,4,0,1])).T\n",
    "T = np.vstack(([1,2,2,2],[0,0,1,2])).T\n",
    "print(S)\n",
    "\n",
    "Sv = np.concatenate((S,v),axis=1)\n",
    "Tv = np.concatenate((T,v),axis=1)\n",
    "print(Sv)\n",
    "\n",
    "print(' ')\n",
    "print(np.linalg.matrix_rank(Sv))\n",
    "print(np.linalg.matrix_rank(Tv))"
   ]
  },
  {
   "cell_type": "code",
   "execution_count": null,
   "metadata": {},
   "outputs": [],
   "source": []
  }
 ],
 "metadata": {
  "kernelspec": {
   "display_name": "Python 3",
   "language": "python",
   "name": "python3"
  },
  "language_info": {
   "codemirror_mode": {
    "name": "ipython",
    "version": 3
   },
   "file_extension": ".py",
   "mimetype": "text/x-python",
   "name": "python",
   "nbconvert_exporter": "python",
   "pygments_lexer": "ipython3",
   "version": "3.7.4"
  }
 },
 "nbformat": 4,
 "nbformat_minor": 2
}
